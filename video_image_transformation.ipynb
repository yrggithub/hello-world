{
  "nbformat": 4,
  "nbformat_minor": 0,
  "metadata": {
    "colab": {
      "name": "video_image_transformation.ipynb",
      "provenance": [],
      "authorship_tag": "ABX9TyOZG0lfToVCcJlj8yDdrRsj",
      "include_colab_link": true
    },
    "kernelspec": {
      "name": "python3",
      "display_name": "Python 3"
    },
    "language_info": {
      "name": "python"
    }
  },
  "cells": [
    {
      "cell_type": "markdown",
      "metadata": {
        "id": "view-in-github",
        "colab_type": "text"
      },
      "source": [
        "<a href=\"https://colab.research.google.com/github/yrggithub/hello-world/blob/master/video_image_transformation.ipynb\" target=\"_parent\"><img src=\"https://colab.research.google.com/assets/colab-badge.svg\" alt=\"Open In Colab\"/></a>"
      ]
    },
    {
      "cell_type": "code",
      "source": [
        "import tensorflow as tf\n",
        "tf.__version__"
      ],
      "metadata": {
        "id": "WJXEKuVQur62"
      },
      "execution_count": null,
      "outputs": []
    },
    {
      "cell_type": "code",
      "source": [
        "import os\n",
        "count=0\n",
        "import cv2\n",
        "from glob import glob"
      ],
      "metadata": {
        "id": "I4WeJvhHusxN"
      },
      "execution_count": null,
      "outputs": []
    },
    {
      "cell_type": "code",
      "execution_count": null,
      "metadata": {
        "id": "phAdlfcNvV7I"
      },
      "outputs": [],
      "source": [
        "#catterpillar videos to images for training\n",
        "sfolder = '/content/drive/MyDrive/YRG_AGRESCO/video/train/catterpillar/'\n",
        "dfolder = '/content/drive/MyDrive/YRG_AGRESCO/train/catterpillar'\n",
        "count=1 \n",
        "for filename in os.listdir(sfolder):\n",
        "  print(filename)\n",
        "  vidObj = cv2.VideoCapture(sfolder+'/'+filename) \n",
        "  while True: \n",
        "        success, image = vidObj.read() \n",
        "        print(success)\n",
        "        #Saves the frames with frame-count \n",
        "        if success:\n",
        "          cv2.resize(image,(224,224));\n",
        "          cv2.imwrite(dfolder + \"/frame%d.jpg\" % count, image) \n",
        "          count += 1\n",
        "        else:\n",
        "          break\n",
        "  vidObj.release() \n",
        "  cv2.destroyAllWindows()"
      ]
    },
    {
      "cell_type": "code",
      "source": [
        "#catterpillar videos to images for testing\n",
        "sfolder = '/content/drive/MyDrive/YRG_AGRESCO/video/test/catterpillar/'\n",
        "dfolder = '/content/drive/MyDrive/YRG_AGRESCO/test/catterpillar'\n",
        "count=1 \n",
        "for filename in os.listdir(sfolder):\n",
        "  print(filename)\n",
        "  vidObj = cv2.VideoCapture(sfolder+'/'+filename) \n",
        "  while True: \n",
        "        success, image = vidObj.read() \n",
        "        print(success)\n",
        "        #Saves the frames with frame-count \n",
        "        if success:\n",
        "          cv2.resize(image,(224,224));\n",
        "          cv2.imwrite(dfolder + \"/frame%d.jpg\" % count, image) \n",
        "          count += 1\n",
        "        else:\n",
        "          break\n",
        "  vidObj.release() \n",
        "  cv2.destroyAllWindows()\n"
      ],
      "metadata": {
        "id": "VAgsyijhvZGF"
      },
      "execution_count": null,
      "outputs": []
    },
    {
      "cell_type": "code",
      "source": [
        "#leafcurl videos to images for training\n",
        "sfolder = '/content/drive/MyDrive/YRG_AGRESCO/video/train/leafcurl/'\n",
        "dfolder = '/content/drive/MyDrive/YRG_AGRESCO/train/leafcurl'\n",
        "count=1 \n",
        "for filename in os.listdir(sfolder):\n",
        "  print(filename)\n",
        "  vidObj = cv2.VideoCapture(sfolder+'/'+filename) \n",
        "  while True: \n",
        "        success, image = vidObj.read() \n",
        "        print(success)\n",
        "        #Saves the frames with frame-count \n",
        "        if success:\n",
        "          cv2.resize(image,(224,224));\n",
        "          cv2.imwrite(dfolder + \"/frame%d.jpg\" % count, image) \n",
        "          count += 1\n",
        "        else:\n",
        "          break\n",
        "  vidObj.release() \n",
        "  cv2.destroyAllWindows()\n"
      ],
      "metadata": {
        "id": "n730TZEevh6s"
      },
      "execution_count": null,
      "outputs": []
    },
    {
      "cell_type": "code",
      "source": [
        "#leafcurl videos to images for testing\n",
        "sfolder = '/content/drive/MyDrive/YRG_AGRESCO/video/test/leafcurl/'\n",
        "dfolder = '/content/drive/MyDrive/YRG_AGRESCO/test/leafcurl'\n",
        "count=1 \n",
        "for filename in os.listdir(sfolder):\n",
        "  print(filename)\n",
        "  vidObj = cv2.VideoCapture(sfolder+'/'+filename) \n",
        "  while True: \n",
        "        success, image = vidObj.read() \n",
        "        print(success)\n",
        "        #Saves the frames with frame-count \n",
        "        if success:\n",
        "          cv2.resize(image,(224,224));\n",
        "          cv2.imwrite(dfolder + \"/frame%d.jpg\" % count, image) \n",
        "          count += 1\n",
        "        else:\n",
        "          break\n",
        "  vidObj.release() \n",
        "  cv2.destroyAllWindows()\n"
      ],
      "metadata": {
        "id": "OLqaNhl1vlkk"
      },
      "execution_count": null,
      "outputs": []
    },
    {
      "cell_type": "code",
      "source": [
        "#littleleaf videos to images for training\n",
        "sfolder = '/content/drive/MyDrive/YRG_AGRESCO/video/train/littleleaf/'\n",
        "dfolder = '/content/drive/MyDrive/YRG_AGRESCO/train/littleleaf'\n",
        "count=1 \n",
        "for filename in os.listdir(sfolder):\n",
        "  print(filename)\n",
        "  vidObj = cv2.VideoCapture(sfolder+'/'+filename) \n",
        "  while True: \n",
        "        success, image = vidObj.read() \n",
        "        print(success)\n",
        "        #Saves the frames with frame-count \n",
        "        if success:\n",
        "          cv2.resize(image,(224,224));\n",
        "          cv2.imwrite(dfolder + \"/frame%d.jpg\" % count, image) \n",
        "          count += 1\n",
        "        else:\n",
        "          break\n",
        "  vidObj.release() \n",
        "  cv2.destroyAllWindows()\n"
      ],
      "metadata": {
        "id": "RY8Pt99Uvo8b"
      },
      "execution_count": null,
      "outputs": []
    },
    {
      "cell_type": "code",
      "source": [
        "#littleleaf videos to images for testing\n",
        "sfolder = '/content/drive/MyDrive/YRG_AGRESCO/video/test/littleleaf/'\n",
        "dfolder = '/content/drive/MyDrive/YRG_AGRESCO/test/littleleaf'\n",
        "count=1 \n",
        "for filename in os.listdir(sfolder):\n",
        "  print(filename)\n",
        "  vidObj = cv2.VideoCapture(sfolder+'/'+filename) \n",
        "  while True: \n",
        "        success, image = vidObj.read() \n",
        "        print(success)\n",
        "        #Saves the frames with frame-count \n",
        "        if success:\n",
        "          cv2.resize(image,(224,224));\n",
        "          cv2.imwrite(dfolder + \"/frame%d.jpg\" % count, image) \n",
        "          count += 1\n",
        "        else:\n",
        "          break\n",
        "  vidObj.release() \n",
        "  cv2.destroyAllWindows()\n"
      ],
      "metadata": {
        "id": "THe74M15vs9U"
      },
      "execution_count": null,
      "outputs": []
    },
    {
      "cell_type": "code",
      "source": [
        "#whitespot videos to images for training\n",
        "sfolder = '/content/drive/MyDrive/YRG_AGRESCO/video/train/whitespot/'\n",
        "dfolder = '/content/drive/MyDrive/YRG_AGRESCO/train/whitespot'\n",
        "count=1 \n",
        "for filename in os.listdir(sfolder):\n",
        "  print(filename)\n",
        "  vidObj = cv2.VideoCapture(sfolder+'/'+filename) \n",
        "  while True: \n",
        "        success, image = vidObj.read() \n",
        "        print(success)\n",
        "        #Saves the frames with frame-count \n",
        "        if success:\n",
        "          cv2.resize(image,(224,224));\n",
        "          cv2.imwrite(dfolder + \"/frame%d.jpg\" % count, image) \n",
        "          count += 1\n",
        "        else:\n",
        "          break\n",
        "  vidObj.release() \n",
        "  cv2.destroyAllWindows()"
      ],
      "metadata": {
        "id": "svw0he3Ov-tb"
      },
      "execution_count": null,
      "outputs": []
    },
    {
      "cell_type": "code",
      "source": [
        "#whitespot videos to images for testing\n",
        "sfolder = '/content/drive/MyDrive/YRG_AGRESCO/video/test/whitespot/'\n",
        "dfolder = '/content/drive/MyDrive/YRG_AGRESCO/test/whitespot'\n",
        "count=1 \n",
        "for filename in os.listdir(sfolder):\n",
        "  print(filename)\n",
        "  vidObj = cv2.VideoCapture(sfolder+'/'+filename) \n",
        "  while True: \n",
        "        success, image = vidObj.read() \n",
        "        print(success)\n",
        "        #Saves the frames with frame-count \n",
        "        if success:\n",
        "          cv2.resize(image,(224,224));\n",
        "          cv2.imwrite(dfolder + \"/frame%d.jpg\" % count, image) \n",
        "          count += 1\n",
        "        else:\n",
        "          break\n",
        "  vidObj.release() \n",
        "  cv2.destroyAllWindows()\n"
      ],
      "metadata": {
        "id": "CJ_o6pZTv_mr"
      },
      "execution_count": null,
      "outputs": []
    }
  ]
}